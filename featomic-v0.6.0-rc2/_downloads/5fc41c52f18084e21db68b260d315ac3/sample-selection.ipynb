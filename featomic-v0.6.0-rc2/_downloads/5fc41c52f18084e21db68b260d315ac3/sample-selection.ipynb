{
  "cells": [
    {
      "cell_type": "markdown",
      "metadata": {},
      "source": [
        "\n# Sample Selection\n\n.. start-body\n"
      ]
    },
    {
      "cell_type": "code",
      "execution_count": null,
      "metadata": {
        "collapsed": false
      },
      "outputs": [],
      "source": [
        "import chemfiles\nimport numpy as np\nfrom metatensor import Labels\n\nfrom featomic import SoapPowerSpectrum"
      ]
    },
    {
      "cell_type": "markdown",
      "metadata": {},
      "source": [
        "First we load the dataset with chemfiles\n\n"
      ]
    },
    {
      "cell_type": "code",
      "execution_count": null,
      "metadata": {
        "collapsed": false
      },
      "outputs": [],
      "source": [
        "with chemfiles.Trajectory(\"dataset.xyz\") as trajectory:\n    frames = [f for f in trajectory]"
      ]
    },
    {
      "cell_type": "markdown",
      "metadata": {},
      "source": [
        "and define the hyper parameters of the representation\n\n"
      ]
    },
    {
      "cell_type": "code",
      "execution_count": null,
      "metadata": {
        "collapsed": false
      },
      "outputs": [],
      "source": [
        "HYPER_PARAMETERS = {\n    \"cutoff\": {\n        \"radius\": 5.0,\n        \"smoothing\": {\"type\": \"ShiftedCosine\", \"width\": 0.5},\n    },\n    \"density\": {\n        \"type\": \"Gaussian\",\n        \"width\": 0.3,\n    },\n    \"basis\": {\n        \"type\": \"TensorProduct\",\n        \"max_angular\": 4,\n        \"radial\": {\"type\": \"Gto\", \"max_radial\": 6},\n    },\n}\n\ncalculator = SoapPowerSpectrum(**HYPER_PARAMETERS)\n\ndescriptor = calculator.compute(frames)"
      ]
    },
    {
      "cell_type": "markdown",
      "metadata": {},
      "source": [
        "The selections for sample can be a set of ``Labels``, in which case the names\nof the labels must be a subset of the names of the samples produced by the\ncalculator. You can see the default set of names with:\n\n"
      ]
    },
    {
      "cell_type": "code",
      "execution_count": null,
      "metadata": {
        "collapsed": false
      },
      "outputs": [],
      "source": [
        "print(\"sample names:\", descriptor.sample_names)"
      ]
    },
    {
      "cell_type": "markdown",
      "metadata": {},
      "source": [
        "We can use a subset of these names to define a selection. In this case, only\nsamples matching the labels in this selection will be used by featomic (here,\nonly atoms from system 0, 2, and 3)\n\n"
      ]
    },
    {
      "cell_type": "code",
      "execution_count": null,
      "metadata": {
        "collapsed": false
      },
      "outputs": [],
      "source": [
        "selection = Labels(\n    names=[\"system\"],\n    values=np.array([[0], [2], [3]]),\n)\n\ndescriptor_selected = calculator.compute(frames, selected_samples=selection)\n\ndescriptor_selected = descriptor_selected.keys_to_samples(\"center_type\")\ndescriptor_selected = descriptor_selected.keys_to_properties(\n    [\"neighbor_1_type\", \"neighbor_2_type\"]\n)\n\nsamples = descriptor_selected.block().samples"
      ]
    },
    {
      "cell_type": "markdown",
      "metadata": {},
      "source": [
        "The first block should have ``[0, 2, 3]`` as ``samples[\"system\"]``\n\n"
      ]
    },
    {
      "cell_type": "code",
      "execution_count": null,
      "metadata": {
        "collapsed": false
      },
      "outputs": [],
      "source": [
        "print(f\"we have the following systems: {np.unique(samples['system'])}\")"
      ]
    },
    {
      "cell_type": "markdown",
      "metadata": {},
      "source": [
        "If we want to select not only based on the system indexes but also atomic\nindexes, we can do the following (here we select atom 0 in the first system\nand atom 1 in the third system):\n\n"
      ]
    },
    {
      "cell_type": "code",
      "execution_count": null,
      "metadata": {
        "collapsed": false
      },
      "outputs": [],
      "source": [
        "selection = Labels(\n    names=[\"system\", \"atom\"],\n    values=np.array([[0, 0], [2, 1]]),\n)\n\ndescriptor_selected = calculator.compute(frames, selected_samples=selection)\ndescriptor_selected = descriptor_selected.keys_to_samples(\"center_type\")\ndescriptor_selected = descriptor_selected.keys_to_properties(\n    [\"neighbor_1_type\", \"neighbor_2_type\"]\n)"
      ]
    },
    {
      "cell_type": "markdown",
      "metadata": {},
      "source": [
        "The values will have 2 rows, since we have two samples:\n\n"
      ]
    },
    {
      "cell_type": "code",
      "execution_count": null,
      "metadata": {
        "collapsed": false
      },
      "outputs": [],
      "source": [
        "print(\n    \"shape of first block of descriptor:\",\n    descriptor_selected.block(0).values.shape,\n)"
      ]
    },
    {
      "cell_type": "markdown",
      "metadata": {},
      "source": [
        "The previous selection method uses the same selection for all blocks. If you\ncan to use different selection for different blocks, you should use a\n`TensorMap` to create your selection\n\n"
      ]
    },
    {
      "cell_type": "code",
      "execution_count": null,
      "metadata": {
        "collapsed": false
      },
      "outputs": [],
      "source": [
        "descriptor = calculator.compute(frames)\ndescriptor_selected = calculator.compute(frames, selected_samples=selection)"
      ]
    },
    {
      "cell_type": "markdown",
      "metadata": {},
      "source": [
        "notice how we are passing a TensorMap as the ``selected_samples`` argument:\n\n"
      ]
    },
    {
      "cell_type": "code",
      "execution_count": null,
      "metadata": {
        "collapsed": false
      },
      "outputs": [],
      "source": [
        "print(type(descriptor_selected))\ndescriptor_for_comparison = calculator.compute(\n    frames, selected_samples=descriptor_selected\n)"
      ]
    },
    {
      "cell_type": "markdown",
      "metadata": {},
      "source": [
        "The descriptor had 420 samples stored in the first block,\nthe ``descriptor_selected`` had 0. So ``descriptor_for_comparison``\nwill also have 0 samples.\n\n"
      ]
    },
    {
      "cell_type": "code",
      "execution_count": null,
      "metadata": {
        "collapsed": false
      },
      "outputs": [],
      "source": [
        "print(\"shape of first block initially:\", descriptor.block(0).values.shape)\nprint(\n    \"shape of first block of reference:\",\n    descriptor_selected.block(0).values.shape,\n)\nprint(\n    \"shape of first block after selection:\",\n    descriptor_for_comparison.block(0).values.shape,\n)"
      ]
    },
    {
      "cell_type": "markdown",
      "metadata": {},
      "source": [
        ".. end-body\n\n"
      ]
    }
  ],
  "metadata": {
    "kernelspec": {
      "display_name": "Python 3",
      "language": "python",
      "name": "python3"
    },
    "language_info": {
      "codemirror_mode": {
        "name": "ipython",
        "version": 3
      },
      "file_extension": ".py",
      "mimetype": "text/x-python",
      "name": "python",
      "nbconvert_exporter": "python",
      "pygments_lexer": "ipython3",
      "version": "3.12.7"
    }
  },
  "nbformat": 4,
  "nbformat_minor": 0
}