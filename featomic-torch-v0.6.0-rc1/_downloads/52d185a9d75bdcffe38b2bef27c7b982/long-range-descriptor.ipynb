{
  "cells": [
    {
      "cell_type": "markdown",
      "metadata": {},
      "source": [
        "\n\n# Long-range only LODE descriptor\n\n.. start-body\n\nWe start the example by loading the required packages\n"
      ]
    },
    {
      "cell_type": "code",
      "execution_count": null,
      "metadata": {
        "collapsed": false
      },
      "outputs": [],
      "source": [
        "import ase\nimport ase.visualize.plot\nimport matplotlib.pyplot as plt\nimport numpy as np\nfrom ase.build import molecule\nfrom metatensor import LabelsEntry, TensorMap\n\nimport featomic\nfrom featomic import LodeSphericalExpansion, SphericalExpansion"
      ]
    },
    {
      "cell_type": "markdown",
      "metadata": {},
      "source": [
        "**Single water molecule (short range) system**\n\nOur first test system is a single water molecule with a $15\\,\\mathrm{\u00c5}$\nvacuum layer around it.\n\n"
      ]
    },
    {
      "cell_type": "code",
      "execution_count": null,
      "metadata": {
        "collapsed": false
      },
      "outputs": [],
      "source": [
        "atoms = molecule(\"H2O\", vacuum=15, pbc=True)"
      ]
    },
    {
      "cell_type": "markdown",
      "metadata": {},
      "source": [
        "We choose a ``cutoff`` for the projection of the spherical expansion and the\nneighbor search of the real space spherical expansion.\n\n"
      ]
    },
    {
      "cell_type": "code",
      "execution_count": null,
      "metadata": {
        "collapsed": false
      },
      "outputs": [],
      "source": [
        "cutoff = 3"
      ]
    },
    {
      "cell_type": "markdown",
      "metadata": {},
      "source": [
        "We can use ase's visualization tools to plot the system and draw a gray circle to\nindicate the ``cutoff`` radius.\n\n"
      ]
    },
    {
      "cell_type": "code",
      "execution_count": null,
      "metadata": {
        "collapsed": false
      },
      "outputs": [],
      "source": [
        "fig, ax = plt.subplots()\n\nase.visualize.plot.plot_atoms(atoms)\n\ncutoff_circle = plt.Circle(\n    xy=atoms[0].position[:2],\n    radius=cutoff,\n    color=\"gray\",\n    ls=\"dashed\",\n    fill=False,\n)\nax.add_patch(cutoff_circle)\n\nax.set_xlabel(\"\u00c5\")\nax.set_ylabel(\"\u00c5\")\n\nfig.show()"
      ]
    },
    {
      "cell_type": "markdown",
      "metadata": {},
      "source": [
        "As you can see, for a single water molecule, the ``cutoff`` includes all atoms of\nthe system. The combination of the test system and the ``cutoff`` aims to\ndemonstrate that the full atomic fingerprint is contained within the ``cutoff``.\nBy later subtracting the short-range density from the LODE density, we will observe\nthat the difference between them is almost zero, indicating that a single water\nmolecule is a short-range system.\n\n"
      ]
    },
    {
      "cell_type": "markdown",
      "metadata": {},
      "source": [
        "For the density, we choose a smeared power law as used in LODE, which does not decay\nexponentially like a :py:class:`Gaussian <featomic.density.Gaussian>` density and is\ntherefore suited to describe long-range interactions between atoms.\n\n"
      ]
    },
    {
      "cell_type": "code",
      "execution_count": null,
      "metadata": {
        "collapsed": false
      },
      "outputs": [],
      "source": [
        "density = featomic.density.SmearedPowerLaw(smearing=1.2, exponent=3)"
      ]
    },
    {
      "cell_type": "markdown",
      "metadata": {},
      "source": [
        "To visualize this we plot ``density`` together with a Gaussian density\n(``gaussian_density``) with the same ``width`` in a log-log plot.\n\n"
      ]
    },
    {
      "cell_type": "code",
      "execution_count": null,
      "metadata": {
        "collapsed": false
      },
      "outputs": [],
      "source": [
        "radial_positions = np.geomspace(1e-5, 10, num=1000)\ngaussian_density = featomic.density.Gaussian(width=density.smearing)\n\nplt.plot(\n    radial_positions,\n    density.compute(radial_positions, derivative=False),\n    label=\"SmearedPowerLaw\",\n)\nplt.plot(\n    radial_positions,\n    gaussian_density.compute(radial_positions, derivative=False),\n    label=\"Gaussian\",\n)\n\n\npositions_indicator = np.array([3.0, 8.0])\nplt.plot(\n    positions_indicator,\n    2 * positions_indicator ** (-density.exponent),\n    c=\"k\",\n    label=f\"exponent={density.exponent}\",\n)\n\nplt.legend()\n\nplt.xlim(1e-1, 10)\nplt.ylim(1e-3, 5e-1)\n\nplt.xlabel(\"radial positions / \u00c5\")\nplt.ylabel(\"atomic density\")\n\nplt.xscale(\"log\")\nplt.yscale(\"log\")"
      ]
    },
    {
      "cell_type": "markdown",
      "metadata": {},
      "source": [
        "We see that the ``SmearedPowerLaw`` decays with a power law of 3, which is the\npotential exponent we picked above, wile the :py:class:`Gaussian\n<featomic.density.Gaussian>` density decays exponentially and is therefore not suited\nfor long-range descriptors.\n\n"
      ]
    },
    {
      "cell_type": "markdown",
      "metadata": {},
      "source": [
        "As a projection basis, we don't use the usual :py:class:`Gto <featomic.basis.Gto>`\nwhich is commonly used for short range descriptors. Instead, we select the\n:py:class:`Monomials <featomic.basis.Monomials>` which is the optimal radial basis\nfor the LODE descriptor as discussed in [Huguenin-Dumittan et al.](https://doi.org/10.1021/acs.jpclett.3c02375)\n\n"
      ]
    },
    {
      "cell_type": "code",
      "execution_count": null,
      "metadata": {
        "collapsed": false
      },
      "outputs": [],
      "source": [
        "by_angular = {}\nfor angular in range(2):\n    by_angular[angular] = featomic.basis.Monomials(\n        radius=cutoff, angular_channel=angular, max_radial=4\n    )\n\n\nbasis = featomic.basis.Explicit(\n    by_angular=by_angular,\n    # We choose a relatively low spline accuracy (default is ``1e-8``) to achieve quick\n    # computation of the spline points. You can increase the spline accuracy if\n    # required, but be aware that the time to compute these points will increase\n    # significantly!\n    spline_accuracy=1e-2,\n)"
      ]
    },
    {
      "cell_type": "markdown",
      "metadata": {},
      "source": [
        "We now have all building blocks to construct the spline for the real and\nFourier space spherical expansions.\n\n"
      ]
    },
    {
      "cell_type": "code",
      "execution_count": null,
      "metadata": {
        "collapsed": false
      },
      "outputs": [],
      "source": [
        "real_space_spliner = featomic.splines.SoapSpliner(\n    # We don't use a ``smoothing`` function in the cutoff or a ``radial_scaling`` in the\n    # density to ensure the correct construction of the long-range only descriptor\n    cutoff=featomic.cutoff.Cutoff(radius=cutoff, smoothing=None),\n    basis=basis,\n    density=density,\n)\nreal_space_hypers = real_space_spliner.get_hypers()\n\nfourier_space_spliner = featomic.splines.LodeSpliner(\n    basis=basis,\n    density=density,\n)\nfourier_space_hypers = fourier_space_spliner.get_hypers()"
      ]
    },
    {
      "cell_type": "markdown",
      "metadata": {},
      "source": [
        "With the splines ready, we now compute the two spherical expansions\n\n"
      ]
    },
    {
      "cell_type": "code",
      "execution_count": null,
      "metadata": {
        "collapsed": false
      },
      "outputs": [],
      "source": [
        "real_space_calculator = SphericalExpansion(**real_space_hypers)\nreal_space_expansion = real_space_calculator.compute(atoms)\n\n\nfourier_space_calculator = LodeSphericalExpansion(**fourier_space_hypers)\nfourier_space_expansion = fourier_space_calculator.compute(atoms)"
      ]
    },
    {
      "cell_type": "markdown",
      "metadata": {},
      "source": [
        "As described in the beginning, we now subtract the real space LODE contributions\nfrom Fourier space to obtain a descriptor that only contains the contributions from\natoms outside of the ``cutoff``.\n\n"
      ]
    },
    {
      "cell_type": "code",
      "execution_count": null,
      "metadata": {
        "collapsed": false
      },
      "outputs": [],
      "source": [
        "delta_expansion = fourier_space_expansion - real_space_expansion"
      ]
    },
    {
      "cell_type": "markdown",
      "metadata": {},
      "source": [
        "You can now use the ``delta_expansion`` as a purely long-range descriptor in\ncombination with a short-range descriptor like\n:py:class:`featomic.SphericalExpansion` for your machine learning models.\n\nWe now verify that for our test ``atoms`` the LODE spherical expansion only contains\nshort-range contributions. To demonstrate this, we densify the\n:py:class:`metatensor.TensorMap` to have only one block per ``\"center_type\"`` and\nvisualize our result. Since we have to perform the densify operation several times in\nthis how-to, we define a helper function ``densify_tensormap``.\n\n"
      ]
    },
    {
      "cell_type": "code",
      "execution_count": null,
      "metadata": {
        "collapsed": false
      },
      "outputs": [],
      "source": [
        "def densify_tensormap(tensor: TensorMap) -> TensorMap:\n    dense_tensor = tensor.components_to_properties(\"o3_mu\")\n    dense_tensor = dense_tensor.keys_to_samples(\"neighbor_type\")\n    dense_tensor = dense_tensor.keys_to_properties([\"o3_lambda\", \"o3_sigma\"])\n\n    return dense_tensor"
      ]
    },
    {
      "cell_type": "markdown",
      "metadata": {},
      "source": [
        "We apply the function to the Fourier space spherical expansion\n``fourier_space_expansion`` and ``subtracted_expansion``.\n\n"
      ]
    },
    {
      "cell_type": "code",
      "execution_count": null,
      "metadata": {
        "collapsed": false
      },
      "outputs": [],
      "source": [
        "fourier_space_expansion = densify_tensormap(fourier_space_expansion)\ndelta_expansion = densify_tensormap(delta_expansion)"
      ]
    },
    {
      "cell_type": "markdown",
      "metadata": {},
      "source": [
        "Finally, we plot the values of each block for the Fourier Space spherical expansion\nin the upper panel and the difference between the Fourier Space and the real space\nin the lower panel. And since we will do this plot several times we again define a\nsmall plot function to help us\n\n"
      ]
    },
    {
      "cell_type": "code",
      "execution_count": null,
      "metadata": {
        "collapsed": false
      },
      "outputs": [],
      "source": [
        "def plot_value_comparison(\n    key: LabelsEntry,\n    fourier_space_expansion: TensorMap,\n    subtracted_expansion: TensorMap,\n):\n    fig, ax = plt.subplots(2, layout=\"tight\")\n\n    values_subtracted = subtracted_expansion[key].values\n    values_fourier_space = fourier_space_expansion[key].values\n\n    ax[0].set_title(f\"center_type={key.values[0]}\\n Fourier space sph. expansion\")\n    im = ax[0].matshow(values_fourier_space, vmin=-0.25, vmax=0.5)\n    ax[0].set_ylabel(\"sample index\")\n\n    ax[1].set_title(\"Difference between Fourier and real space sph. expansion\")\n    ax[1].matshow(values_subtracted, vmin=-0.25, vmax=0.5)\n    ax[1].set_ylabel(\"sample index\")\n    ax[1].set_xlabel(\"property index\")\n\n    fig.colorbar(im, ax=ax[0], orientation=\"horizontal\", fraction=0.1, label=\"values\")"
      ]
    },
    {
      "cell_type": "markdown",
      "metadata": {},
      "source": [
        "We first plot the values of the TensorMaps for center_type=1 (hydrogen)\n\n"
      ]
    },
    {
      "cell_type": "code",
      "execution_count": null,
      "metadata": {
        "collapsed": false
      },
      "outputs": [],
      "source": [
        "plot_value_comparison(\n    fourier_space_expansion.keys[0], fourier_space_expansion, delta_expansion\n)"
      ]
    },
    {
      "cell_type": "markdown",
      "metadata": {},
      "source": [
        "and for center_type=8 (oxygen)\n\n"
      ]
    },
    {
      "cell_type": "code",
      "execution_count": null,
      "metadata": {
        "collapsed": false
      },
      "outputs": [],
      "source": [
        "plot_value_comparison(\n    fourier_space_expansion.keys[1], fourier_space_expansion, delta_expansion\n)"
      ]
    },
    {
      "cell_type": "markdown",
      "metadata": {},
      "source": [
        "The plot shows that the spherical expansion for the Fourier space is non-zero while\nthe difference between the two expansions is very small.\n\n<div class=\"alert alert-danger\"><h4>Warning</h4><p>Small residual values may stems from the contribution of the periodic images. You\n  can verify and reduce those contributions by either increasing the cell and/or\n  increase the ``potential_exponent``.</p></div>\n\n**Two water molecule (long range) system**\n\nWe now add a second water molecule shifted by $3\\,\\mathrm{\u00c5}$ in each\ndirection from our first water molecule to show that such a system has non\nnegligible long range effects.\n\n"
      ]
    },
    {
      "cell_type": "code",
      "execution_count": null,
      "metadata": {
        "collapsed": false
      },
      "outputs": [],
      "source": [
        "atoms_shifted = molecule(\"H2O\", vacuum=10, pbc=True)\natoms_shifted.positions = atoms.positions + 3\n\natoms_long_range = atoms + atoms_shifted\n\n\nfig, ax = plt.subplots()\n\nase.visualize.plot.plot_atoms(atoms_long_range, ax=ax)\n\ncutoff_circle = plt.Circle(\n    xy=atoms[0].position[1:],\n    radius=cutoff,\n    color=\"gray\",\n    ls=\"dashed\",\n    fill=False,\n)\n\ncutoff_circle_shifted = plt.Circle(\n    xy=atoms_shifted[0].position[1:],\n    radius=cutoff,\n    color=\"gray\",\n    ls=\"dashed\",\n    fill=False,\n)\n\nax.add_patch(cutoff_circle)\nax.add_patch(cutoff_circle_shifted)\n\nax.set_xlabel(\"\u00c5\")\nax.set_ylabel(\"\u00c5\")\n\nfig.show()"
      ]
    },
    {
      "cell_type": "markdown",
      "metadata": {},
      "source": [
        "As you can see, the ``cutoff`` radii of the two molecules are completely disjoint.\nTherefore, a short-range model will not able to describe the intermolecular\ninteractions between our two molecules. To verify we now again create a long-range\nonly descriptor for this system. We use the already defined\n``real_space_expansion_long_range`` and ``fourier_space_expansion_long_range``\n\n"
      ]
    },
    {
      "cell_type": "code",
      "execution_count": null,
      "metadata": {
        "collapsed": false
      },
      "outputs": [],
      "source": [
        "real_space_expansion_long_range = real_space_calculator.compute(atoms_long_range)\nfourier_space_expansion_long_range = fourier_space_calculator.compute(atoms_long_range)"
      ]
    },
    {
      "cell_type": "markdown",
      "metadata": {},
      "source": [
        "We now first verify that the contribution from the short-range descriptors is the\nsame as for a single water molecule. Exemplarily, we compare only the first\n(Hydrogen) block of each tensor.\n\n"
      ]
    },
    {
      "cell_type": "code",
      "execution_count": null,
      "metadata": {
        "collapsed": false
      },
      "outputs": [],
      "source": [
        "print(\"Single water real space spherical expansion\")\nprint(np.round(real_space_expansion[1].values, 3))\n\nprint(\"\\nTwo water real space spherical expansion\")\nprint(np.round(real_space_expansion_long_range[1].values, 3))"
      ]
    },
    {
      "cell_type": "markdown",
      "metadata": {},
      "source": [
        "Since the values of the block are the same, we can conclude that there is no\ninformation shared between the two molecules and that the short-range descriptor is\nnot able to distinguish the system with only one or two water molecules. Note that\nthe different number of `samples` in ``real_space_expansion_long_range`` reflects\nthe fact that the second system has more atoms then the first.\n\nAs above, we construct a long-range only descriptor and densify the result for\nplotting the values.\n\n"
      ]
    },
    {
      "cell_type": "code",
      "execution_count": null,
      "metadata": {
        "collapsed": false
      },
      "outputs": [],
      "source": [
        "delta_expansion_long_range = (\n    fourier_space_expansion_long_range - real_space_expansion_long_range\n)\n\nfourier_space_expansion_long_range = densify_tensormap(\n    fourier_space_expansion_long_range\n)\ndelta_expansion_long_range = densify_tensormap(delta_expansion_long_range)"
      ]
    },
    {
      "cell_type": "markdown",
      "metadata": {},
      "source": [
        "As above, we plot the values of the spherical expansions for the Fourier and the\nsubtracted (long range only) spherical expansion. First for hydrogen\n(``center_species=1``)\n\n"
      ]
    },
    {
      "cell_type": "code",
      "execution_count": null,
      "metadata": {
        "collapsed": false
      },
      "outputs": [],
      "source": [
        "plot_value_comparison(\n    fourier_space_expansion_long_range.keys[0],\n    fourier_space_expansion_long_range,\n    delta_expansion_long_range,\n)"
      ]
    },
    {
      "cell_type": "markdown",
      "metadata": {},
      "source": [
        "amd second for oxygen (``center_species=8``)\n\n"
      ]
    },
    {
      "cell_type": "code",
      "execution_count": null,
      "metadata": {
        "collapsed": false
      },
      "outputs": [],
      "source": [
        "plot_value_comparison(\n    fourier_space_expansion_long_range.keys[1],\n    fourier_space_expansion_long_range,\n    delta_expansion_long_range,\n)"
      ]
    },
    {
      "cell_type": "markdown",
      "metadata": {},
      "source": [
        "We clearly see that the values of the subtracted spherical are much larger compared\nto the system with only a single water molecule, thus confirming the presence of\nlong-range contributions in the descriptor for a system with two water molecules.\n\n.. end-body\n\n"
      ]
    }
  ],
  "metadata": {
    "kernelspec": {
      "display_name": "Python 3",
      "language": "python",
      "name": "python3"
    },
    "language_info": {
      "codemirror_mode": {
        "name": "ipython",
        "version": 3
      },
      "file_extension": ".py",
      "mimetype": "text/x-python",
      "name": "python",
      "nbconvert_exporter": "python",
      "pygments_lexer": "ipython3",
      "version": "3.12.7"
    }
  },
  "nbformat": 4,
  "nbformat_minor": 0
}