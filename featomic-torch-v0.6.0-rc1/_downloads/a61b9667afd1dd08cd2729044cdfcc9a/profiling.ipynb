{
  "cells": [
    {
      "cell_type": "markdown",
      "metadata": {},
      "source": [
        "\n# Profiling calculation\n\n.. start-body\n"
      ]
    },
    {
      "cell_type": "code",
      "execution_count": null,
      "metadata": {
        "collapsed": false
      },
      "outputs": [],
      "source": [
        "import chemfiles\n\nimport featomic\nfrom featomic import SoapPowerSpectrum\n\n\ndef compute_soap(path):\n    \"\"\"Compute SOAP power spectrum.\n\n    This is the same code as the 'compute-soap' example\n    \"\"\"\n    with chemfiles.Trajectory(path) as trajectory:\n        frames = [f for f in trajectory]\n\n    HYPER_PARAMETERS = {\n        \"cutoff\": {\n            \"radius\": 5.0,\n            \"smoothing\": {\"type\": \"ShiftedCosine\", \"width\": 0.5},\n        },\n        \"density\": {\n            \"type\": \"Gaussian\",\n            \"width\": 0.3,\n        },\n        \"basis\": {\n            \"type\": \"TensorProduct\",\n            \"max_angular\": 4,\n            \"radial\": {\"type\": \"Gto\", \"max_radial\": 6},\n        },\n    }\n\n    calculator = SoapPowerSpectrum(**HYPER_PARAMETERS)\n    descriptor = calculator.compute(frames, gradients=[\"positions\"])\n    descriptor = descriptor.keys_to_samples(\"center_type\")\n    descriptor = descriptor.keys_to_properties([\"neighbor_1_type\", \"neighbor_2_type\"])\n\n    return descriptor"
      ]
    },
    {
      "cell_type": "markdown",
      "metadata": {},
      "source": [
        "Run the calculation with profiling enabled.\n\n"
      ]
    },
    {
      "cell_type": "code",
      "execution_count": null,
      "metadata": {
        "collapsed": false
      },
      "outputs": [],
      "source": [
        "with featomic.Profiler() as profiler:\n    descriptor = compute_soap(\"dataset.xyz\")"
      ]
    },
    {
      "cell_type": "markdown",
      "metadata": {},
      "source": [
        "Display the recorded profiling data as table.\n\n"
      ]
    },
    {
      "cell_type": "code",
      "execution_count": null,
      "metadata": {
        "collapsed": false
      },
      "outputs": [],
      "source": [
        "print(profiler.as_short_table())"
      ]
    },
    {
      "cell_type": "markdown",
      "metadata": {},
      "source": [
        "You can also save this data as json for future usage\n\n"
      ]
    },
    {
      "cell_type": "code",
      "execution_count": null,
      "metadata": {
        "collapsed": false
      },
      "outputs": [],
      "source": [
        "print(profiler.as_json())"
      ]
    },
    {
      "cell_type": "markdown",
      "metadata": {},
      "source": [
        ".. end-body\n\n"
      ]
    }
  ],
  "metadata": {
    "kernelspec": {
      "display_name": "Python 3",
      "language": "python",
      "name": "python3"
    },
    "language_info": {
      "codemirror_mode": {
        "name": "ipython",
        "version": 3
      },
      "file_extension": ".py",
      "mimetype": "text/x-python",
      "name": "python",
      "nbconvert_exporter": "python",
      "pygments_lexer": "ipython3",
      "version": "3.12.7"
    }
  },
  "nbformat": 4,
  "nbformat_minor": 0
}