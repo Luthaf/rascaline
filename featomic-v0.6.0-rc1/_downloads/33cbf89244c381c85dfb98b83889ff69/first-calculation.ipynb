{
  "cells": [
    {
      "cell_type": "markdown",
      "metadata": {},
      "source": [
        "\n\n# First descriptor computation\n\nThis is an introduction to the featomic interface using a molecular crystals\ndataset using the Python interface. If you are interested in another\nprogramming language we recommend you first follow this tutorial and afterward\ntake a look at the how-to guide on `userdoc-how-to-computing-soap`.\n\n## The dataset\n\nThe atomic configurations used in our documentation are a small subset of the\n[ShiftML2 dataset](https://pubs.acs.org/doi/pdf/10.1021/acs.jpcc.2c03854)\ncontaining molecular crystals. There are four crystals - one with each of the\nelements [hydrogen, carbon], [hydrogen, carbon, nitrogen, oxygen], [hydrogen,\ncarbon, nitrogen], or [hydrogen, carbon, oxygen]. Each crystal has 10 structures,\nalso denoted by frames, attributed to it. The first frame of each crystal structure\nis the geometry-optimized frame. The following 9 frames contain atoms that are\nslightly displaced from the geometry-optimized frame. You can obtain the dataset\nfrom our :download:`website <../../static/dataset.xyz>`.\n"
      ]
    },
    {
      "cell_type": "markdown",
      "metadata": {},
      "source": [
        "We will start by importing all the required packages: the classic numpy;\nchemfiles to load data, and featomic to compute representations. Afterward\nwe will load the dataset using chemfiles.\n\n"
      ]
    },
    {
      "cell_type": "code",
      "execution_count": null,
      "metadata": {
        "collapsed": false
      },
      "outputs": [],
      "source": [
        "import chemfiles\nimport numpy as np\n\nfrom featomic import SphericalExpansion\n\n\nwith chemfiles.Trajectory(\"dataset.xyz\") as trajectory:\n    frames = [f for f in trajectory]\n\nprint(f\"The dataset contains {len(frames)} frames.\")"
      ]
    },
    {
      "cell_type": "markdown",
      "metadata": {},
      "source": [
        "We will not explain here how to use chemfiles in detail, as we only use a few\nfunctions. Briefly, :class:`chemfiles.Trajectory` loads structure data in a\nformat featomic can use. If you want to learn more about the possibilities\ntake a look at the [chemfiles documentation](https://chemfiles.org).\n\nLet us now take a look at the first frame of the dataset.\n\n"
      ]
    },
    {
      "cell_type": "code",
      "execution_count": null,
      "metadata": {
        "collapsed": false
      },
      "outputs": [],
      "source": [
        "frame0 = frames[0]\n\nprint(frame0)"
      ]
    },
    {
      "cell_type": "markdown",
      "metadata": {},
      "source": [
        "With ``frame0.atoms`` we get a list of the atoms that make up frame zero.\nThe ``name`` attribute gives us the name of the specified atom.\n\n"
      ]
    },
    {
      "cell_type": "code",
      "execution_count": null,
      "metadata": {
        "collapsed": false
      },
      "outputs": [],
      "source": [
        "elements, counts = np.unique([atom.name for atom in frame0.atoms], return_counts=True)\n\nprint(\n    f\"The first frame contains \"\n    f\"{counts[0]} {elements[0]}-atoms, \"\n    f\"{counts[1]} {elements[1]}-atoms, \"\n    f\"{counts[2]} {elements[2]}-atoms and \"\n    f\"{counts[3]} {elements[3]}-atoms.\"\n)"
      ]
    },
    {
      "cell_type": "markdown",
      "metadata": {},
      "source": [
        "## Calculate a descriptor\n\nWe will now calculate an atomic descriptor for this structure using the SOAP\nspherical expansion as introduced by [Bart\u00f3k, Kondor, and Cs\u00e1nyi](http://dx.doi.org/10.1103/PhysRevB.87.184115).\n\nTo do so we define below a set of parameters telling featomic how the\nspherical expansion should be calculated. These parameters are also called\nhyper parameters since they are parameters of the representation, in\nopposition to parameters of machine learning models. Hyper parameters are a\ncrucial part of calculating descriptors. Poorly selected hyper parameters will\nlead to a poor description of your dataset as discussed in the [literature](https://arxiv.org/abs/1502.02127).\n\n"
      ]
    },
    {
      "cell_type": "code",
      "execution_count": null,
      "metadata": {
        "collapsed": false
      },
      "outputs": [],
      "source": [
        "cutoff = {\n    \"radius\": 4.5,\n    \"smoothing\": {\"type\": \"ShiftedCosine\", \"width\": 0.5},\n}\n\ndensity = {\n    \"type\": \"Gaussian\",\n    \"width\": 0.3,\n    \"radial_scaling\": {\n        \"type\": \"Willatt2018\",\n        \"scale\": 2.0,\n        \"rate\": 1.0,\n        \"exponent\": 4,\n    },\n}\n\nbasis = {\n    \"type\": \"TensorProduct\",\n    \"max_angular\": 5,\n    \"radial\": {\"type\": \"Gto\", \"max_radial\": 8},\n}"
      ]
    },
    {
      "cell_type": "markdown",
      "metadata": {},
      "source": [
        "After we set the hyper parameters we initialize a\n:class:`featomic.calculators.SphericalExpansion` object with hyper parameters\ndefined above and run the\n:py:func:`featomic.calculators.CalculatorBase.compute()` method.\n\n"
      ]
    },
    {
      "cell_type": "code",
      "execution_count": null,
      "metadata": {
        "collapsed": false
      },
      "outputs": [],
      "source": [
        "calculator = SphericalExpansion(cutoff=cutoff, density=density, basis=basis)\ndescriptor0 = calculator.compute(frame0)\nprint(type(descriptor0))"
      ]
    },
    {
      "cell_type": "markdown",
      "metadata": {},
      "source": [
        "The descriptor format is a :class:`metatensor.TensorMap` object. Metatensor is\nlike numpy for storing representations of atomistic ML data. Extensive details\non the metatensor are covered in the [corresponding documentation](https://lab-cosmo.github.io/metatensor/).\n\nWe will now have a look at how the data is stored inside\n:class:`metatensor.TensorMap` objects.\n\n"
      ]
    },
    {
      "cell_type": "code",
      "execution_count": null,
      "metadata": {
        "collapsed": false
      },
      "outputs": [],
      "source": [
        "print(descriptor0)"
      ]
    },
    {
      "cell_type": "markdown",
      "metadata": {},
      "source": [
        "The :class:`metatensor.TensorMap` is structured in several instances of an\n:class:`metatensor.TensorBlock`. To distinguish the block each block is associated\nwith a unique key. For the current example, we have one block for each angular channel\nlabeled by ``o3_lambda``, the central atom type ``center_type`` and\nneighbor atom type labeled by ``neighbor_type``. Different atomic types are\nrepresented using their atomic number, e.g. 1 for hydrogen, 6 for carbon, etc. To\nsummarize, this descriptor contains 112 blocks covering all combinations of the\nangular channels of the central and neighbor atom types in our dataset.\n\nLet us take a look at the second block (at index 1) in detail. This block contains the\ndescriptor for the $l=1$ angular channel for hydrogen-hydrogen pairs.\n\n"
      ]
    },
    {
      "cell_type": "code",
      "execution_count": null,
      "metadata": {
        "collapsed": false
      },
      "outputs": [],
      "source": [
        "block = descriptor0.block(1)\nprint(descriptor0.keys[1])"
      ]
    },
    {
      "cell_type": "markdown",
      "metadata": {},
      "source": [
        "## The descriptor values\n\nThe values of the representation are stored as an array. Each entry in this\narray also has associated unique metadata as each block. For the spherical\nexpansion calculator used in this tutorial the values have three dimensions\nwhich we can verify from the ``.shape`` attribute.\n\n"
      ]
    },
    {
      "cell_type": "code",
      "execution_count": null,
      "metadata": {
        "collapsed": false
      },
      "outputs": [],
      "source": [
        "print(block.values.shape)"
      ]
    },
    {
      "cell_type": "markdown",
      "metadata": {},
      "source": [
        "## The descriptor values\n\nThe first dimension is denoted by the `samples`, the intermediate dimension by\n`components`, and the last dimension by `properties`. The \"sample dimension\"\nhas a length of eight because we have eight hydrogen atoms in the first frame.\nWe can reveal more detailed metadata information about the sample-dimension\nprinting of the :py:attr:`metatensor.TensorBlock.samples` attribute of the\nblock\n\n"
      ]
    },
    {
      "cell_type": "code",
      "execution_count": null,
      "metadata": {
        "collapsed": false
      },
      "outputs": [],
      "source": [
        "print(block.samples)"
      ]
    },
    {
      "cell_type": "markdown",
      "metadata": {},
      "source": [
        "The result is an :class:`metatensor.TensorMap` instance. It contains in total\neight tuples each with two values. The tuple values are named as follows\n\n"
      ]
    },
    {
      "cell_type": "code",
      "execution_count": null,
      "metadata": {
        "collapsed": false
      },
      "outputs": [],
      "source": [
        "print(block.samples.names)"
      ]
    },
    {
      "cell_type": "markdown",
      "metadata": {},
      "source": [
        "Meaning that the first entry of each tuple indicates the _structure_, which is\n0 for all because we only computed the representation of a single frame. The\nsecond entry of each tuple refers to the index of the _center_ atom.\n\nWe can do a similar investigation for the second dimension: the\n:py:attr:`metatensor.TensorBlock.components`.\n\n"
      ]
    },
    {
      "cell_type": "code",
      "execution_count": null,
      "metadata": {
        "collapsed": false
      },
      "outputs": [],
      "source": [
        "print(block.components)"
      ]
    },
    {
      "cell_type": "markdown",
      "metadata": {},
      "source": [
        "Here, the components are associated with the angular channels of the\nrepresentation. The size of ``o3_mu`` is $2l + 1$, where\n$l$ is the current ``o3_lambda`` of the block. Here, its\ndimension is three because we are looking at the ``o3_lambda=1``\nblock. You may have noticed that the return value of the last call is a\n:class:`list` of :class:`metatensor.Labels` and not a single ``Labels``\ninstance. The reason is that a block can have several component dimensions as\nwe will see below for the gradients.\n\nThe last value represents the number of radial channels. For the\n:py:attr:`metatensor.TensorBlock.properties` dimension we find an object\n\n"
      ]
    },
    {
      "cell_type": "code",
      "execution_count": null,
      "metadata": {
        "collapsed": false
      },
      "outputs": [],
      "source": [
        "print(block.properties)"
      ]
    },
    {
      "cell_type": "markdown",
      "metadata": {},
      "source": [
        "containing a tuple of only one value ranging from 0 to 8. The name of this entry is\n\n"
      ]
    },
    {
      "cell_type": "code",
      "execution_count": null,
      "metadata": {
        "collapsed": false
      },
      "outputs": [],
      "source": [
        "print(block.properties.names)"
      ]
    },
    {
      "cell_type": "markdown",
      "metadata": {},
      "source": [
        "and denoting the radial channels. The range results from our choice of\n``max_radial = 9`` in the hyper parameters above.\n\nAfter looking at the metadata we can investigate the actual data of the\nrepresentation in more details\n\n"
      ]
    },
    {
      "cell_type": "code",
      "execution_count": null,
      "metadata": {
        "collapsed": false
      },
      "outputs": [],
      "source": [
        "print(block.values[0, 0, :])"
      ]
    },
    {
      "cell_type": "markdown",
      "metadata": {},
      "source": [
        "By using ``[0, 0, :]`` we selected the first hydrogen and the first ``m``\nchannel. As you the output shows the values are floating point numbers between\n``-1.0`` and ``1.0``. Values in this range are reasonable and can be directly\nused as input for a machine learning algorithm.\n\nFeatomic is also able to process more than one structure within one function\ncall. You can process a whole dataset with\n\n"
      ]
    },
    {
      "cell_type": "code",
      "execution_count": null,
      "metadata": {
        "collapsed": false
      },
      "outputs": [],
      "source": [
        "descriptor_full = calculator.compute(frames)\n\nblock_full = descriptor_full.block(0)\nprint(block_full.values.shape)"
      ]
    },
    {
      "cell_type": "markdown",
      "metadata": {},
      "source": [
        "Now, the 0th block of the :class:`metatensor.TensorMap` contains not eight but\n420 entries in the first dimensions. This reflects the fact that in total we\nhave 420 hydrogen atoms in the whole dataset.\n\nIf you want to use another calculator instead of\n:class:`featomic.calculators.SphericalExpansion` shown here check out the\n`userdoc-references` section.\n\n## Computing gradients\n\nAdditionally, featomic is also able to calculate gradients on top of the\nvalues. Gradients are useful for constructing an ML potential and running\nsimulations. For example ``gradients`` of the representation with respect to\natomic positions can be calculated by setting the ``gradients`` parameter of\nthe :py:func:`featomic.calculators.CalculatorBase.compute()` method to\n``[\"positions\"]``.\n\n"
      ]
    },
    {
      "cell_type": "code",
      "execution_count": null,
      "metadata": {
        "collapsed": false
      },
      "outputs": [],
      "source": [
        "descriptor_gradients = calculator.compute(frame0, gradients=[\"positions\"])\n\nblock_gradients = descriptor_gradients.block(0)\ngradient_position = block_gradients.gradient(\"positions\")\n\nprint(gradient_position.values.shape)"
      ]
    },
    {
      "cell_type": "markdown",
      "metadata": {},
      "source": [
        "The calculated descriptor contains the values and in each block the associated\nposition gradients as an :class:`metatensor.block.Gradient` instance. The\nactual values are stored in the ``data`` attribute. Similar to the features\nthe gradient data also has associated metadata. But, compared to the values\nwere we found three dimensions, and gradients have four. Again the first is\ncalled `samples` and the `properties`. The dimensions between the sample and\nproperty dimensions are denoted by `components`.\n\nLooking at the shape in more detail we find that we have 52 samples, which is\nmuch more compared to features where we only have eight samples. This arises\nfrom the fact that we calculate the position gradient for each pair in the\nstructure. For our selected block these are all hydrogen-hydrogen pairs.\nNaively one would come up with ``8 * 8 = 64`` samples, but featomic already\nignores pairs that are outside of the cutoff radius. Their position gradient\nis always zero. The :attr:`metatensor.block.Gradient.samples` attribute shows\nthis in detail.\n\n"
      ]
    },
    {
      "cell_type": "code",
      "execution_count": null,
      "metadata": {
        "collapsed": false
      },
      "outputs": [],
      "source": [
        "print(gradient_position.samples)"
      ]
    },
    {
      "cell_type": "markdown",
      "metadata": {},
      "source": [
        "Note that we have a tuple of three with the names\n\n"
      ]
    },
    {
      "cell_type": "code",
      "execution_count": null,
      "metadata": {
        "collapsed": false
      },
      "outputs": [],
      "source": [
        "print(gradient_position.samples.names)"
      ]
    },
    {
      "cell_type": "markdown",
      "metadata": {},
      "source": [
        "In the above output of the Labels instance for example the `(2, 0, 17)` entry\nis missing indicating that this pair is outside of the cutoff.\n\nNow looking at the :attr:`metatensor.block.Gradient.components`\n\n"
      ]
    },
    {
      "cell_type": "code",
      "execution_count": null,
      "metadata": {
        "collapsed": false
      },
      "outputs": [],
      "source": [
        "print(gradient_position.components)"
      ]
    },
    {
      "cell_type": "markdown",
      "metadata": {},
      "source": [
        "we find two of them. Besides the `o3_mu` component that is also present in the\nfeatures position gradients also have a component indicating the direction of the\ngradient vector.\n\nFinally, the :attr:`metatensor.block.Gradient.properties` dimension is the same as for\nthe values\n\n"
      ]
    },
    {
      "cell_type": "code",
      "execution_count": null,
      "metadata": {
        "collapsed": false
      },
      "outputs": [],
      "source": [
        "print(gradient_position.properties)"
      ]
    },
    {
      "cell_type": "markdown",
      "metadata": {},
      "source": [
        "Featomic can also calculate gradients with respect to the strain (i.e. the virial).\nFor this, you have to add ``\"strain\"`` to the list parsed to the ``gradients``\nparameter of the :py:func:`featomic.calculators.CalculatorBase.compute()` method.\nStrain gradients/virial are useful when computing the stress and the pressure.\n\nIf you want to know about the effect of changing hypers take a look at the next\ntutorial. If you want to solve an explicit problem our `userdoc-how-to` might\nhelp you.\n\n"
      ]
    }
  ],
  "metadata": {
    "kernelspec": {
      "display_name": "Python 3",
      "language": "python",
      "name": "python3"
    },
    "language_info": {
      "codemirror_mode": {
        "name": "ipython",
        "version": 3
      },
      "file_extension": ".py",
      "mimetype": "text/x-python",
      "name": "python",
      "nbconvert_exporter": "python",
      "pygments_lexer": "ipython3",
      "version": "3.12.7"
    }
  },
  "nbformat": 4,
  "nbformat_minor": 0
}