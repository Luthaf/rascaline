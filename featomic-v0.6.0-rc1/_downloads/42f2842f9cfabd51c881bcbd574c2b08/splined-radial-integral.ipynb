{
  "cells": [
    {
      "cell_type": "markdown",
      "metadata": {},
      "source": [
        "\n# Splined radial integrals\n\n.. start-body\n\nThis example illustrates how to generate splines and use custom basis function and\ndensity when computing density-based representations, such as SOAP or LODE.\n"
      ]
    },
    {
      "cell_type": "code",
      "execution_count": null,
      "metadata": {
        "collapsed": false
      },
      "outputs": [],
      "source": [
        "import json\n\nimport ase.build\nimport matplotlib.pyplot as plt\nimport numpy as np\nimport scipy\n\nimport featomic\nfrom featomic import SphericalExpansion\nfrom featomic.basis import RadialBasis\nfrom featomic.splines import SoapSpliner"
      ]
    },
    {
      "cell_type": "markdown",
      "metadata": {},
      "source": [
        "For this example, we will define a new custom radial basis for the SOAP spherical\nexpansion, based on Chebyshev polynomials of the first kind. This basis will then be\nused in combination with spherical harmonics to expand the density of neighboring\natoms around a central atom.\n\nIn featomic, defining custom radial basis is done by creating a class inheriting from\n:py:class:`featomic.basis.RadialBasis`, and implementing the required method. The\nmain one is ``compute_primitive``, which evaluates the radial basis on a set of\npoints. This function should also be able to evaluate the derivative of the radial\nbasis. If needed :py:meth:`featomic.basis.RadialBasis.finite_differences_derivative`\ncan be used to compute the derivative with finite differences.\n\n"
      ]
    },
    {
      "cell_type": "code",
      "execution_count": null,
      "metadata": {
        "collapsed": false
      },
      "outputs": [],
      "source": [
        "class Chebyshev(RadialBasis):\n    def __init__(self, max_radial, radius):\n        # initialize `RadialBasis`\n        super().__init__(max_radial=max_radial, radius=radius)\n\n    def compute_primitive(self, positions, n, *, derivative=False):\n        # map argument from [0, cutoff] to [-1, 1]\n        z = 2 * positions / self.radius - 1\n        if derivative:\n            return -2 * n / self.radius * scipy.special.chebyu(n)(z)\n        else:\n            return scipy.special.chebyt(n + 1)(z)\n\n    @property\n    def integration_radius(self):\n        return self.radius"
      ]
    },
    {
      "cell_type": "markdown",
      "metadata": {},
      "source": [
        "We can now look at the basis functions and their derivatives\n\n"
      ]
    },
    {
      "cell_type": "code",
      "execution_count": null,
      "metadata": {
        "collapsed": false
      },
      "outputs": [],
      "source": [
        "radius = 4.5\nbasis = Chebyshev(max_radial=4, radius=radius)\n\nr = np.linspace(0, radius)\nfor n in range(basis.size):\n    plt.plot(r, basis.compute_primitive(r, n, derivative=False))\n\nplt.title(\"Chebyshev radial basis functions\")\nplt.show()"
      ]
    },
    {
      "cell_type": "code",
      "execution_count": null,
      "metadata": {
        "collapsed": false
      },
      "outputs": [],
      "source": [
        "for n in range(basis.size):\n    plt.plot(r, basis.compute_primitive(r, n, derivative=True))\nplt.title(\"Chebyshev radial basis functions' derivatives\")\nplt.show()"
      ]
    },
    {
      "cell_type": "markdown",
      "metadata": {},
      "source": [
        "Before being used by featomic, the basis functions we implemented will be\northogonalized and normalized, to improve conditioning of the produced features. This\nis done automatically, and one can access the orthonormalized basis functions with the\n:py:meth:`featomic.basis.RadialBasis.compute` method.\n\n"
      ]
    },
    {
      "cell_type": "code",
      "execution_count": null,
      "metadata": {
        "collapsed": false
      },
      "outputs": [],
      "source": [
        "basis_orthonormal = basis.compute(r, derivative=False)\nfor n in range(basis.size):\n    plt.plot(r, basis_orthonormal[:, n])\n\nplt.title(\"Orthonormalized Chebyshev radial basis functions\")\nplt.show()"
      ]
    },
    {
      "cell_type": "markdown",
      "metadata": {},
      "source": [
        "With this, our new radial basis definition is ready to be used with\n:py:class:`featomic.splines.SoapSpliner`. This class will take the whole set of hyper\nparameters, use them to compute a spline of the radial integral, and give us back new\nhypers that can be used with the native calculators to compute the expansion with our\ncustom basis.\n\n\n"
      ]
    },
    {
      "cell_type": "code",
      "execution_count": null,
      "metadata": {
        "collapsed": false
      },
      "outputs": [],
      "source": [
        "spliner = SoapSpliner(\n    cutoff=featomic.cutoff.Cutoff(\n        radius=radius,\n        smoothing=featomic.cutoff.ShiftedCosine(width=0.3),\n    ),\n    density=featomic.density.Gaussian(width=0.5),\n    basis=featomic.basis.TensorProduct(\n        max_angular=4,\n        radial=Chebyshev(max_radial=4, radius=radius),\n        spline_accuracy=1e-4,\n    ),\n)\n\nhypers = spliner.get_hypers()"
      ]
    },
    {
      "cell_type": "markdown",
      "metadata": {},
      "source": [
        "The hyper parameters have been transformed from what we gave to the\n:py:class:`featomic.splines.SoapSpliner`:\n\n"
      ]
    },
    {
      "cell_type": "code",
      "execution_count": null,
      "metadata": {
        "collapsed": false
      },
      "outputs": [],
      "source": [
        "print(\"hypers['basis'] is\", type(hypers[\"basis\"]))\nprint(\"hypers['density'] is\", type(hypers[\"density\"]))"
      ]
    },
    {
      "cell_type": "markdown",
      "metadata": {},
      "source": [
        "And the new hypers can be used directly with the calculators:\n\n"
      ]
    },
    {
      "cell_type": "code",
      "execution_count": null,
      "metadata": {
        "collapsed": false
      },
      "outputs": [],
      "source": [
        "calculator_splined = SphericalExpansion(**hypers)"
      ]
    },
    {
      "cell_type": "markdown",
      "metadata": {},
      "source": [
        "As a comparison, let's look at the expansion coefficient for formic acid, using both\nour splined radial basis and the classic GTO radial basis:\n\n"
      ]
    },
    {
      "cell_type": "code",
      "execution_count": null,
      "metadata": {
        "collapsed": false
      },
      "outputs": [],
      "source": [
        "atoms = ase.build.molecule(\"HCOOH\", vacuum=4, pbc=True)\n\ncalculator_gto = SphericalExpansion(\n    # same parameters, only the radial basis changed\n    cutoff=featomic.cutoff.Cutoff(\n        radius=radius,\n        smoothing=featomic.cutoff.ShiftedCosine(width=0.3),\n    ),\n    density=featomic.density.Gaussian(width=0.5),\n    basis=featomic.basis.TensorProduct(\n        max_angular=4,\n        radial=featomic.basis.Gto(max_radial=4, radius=radius),\n        spline_accuracy=1e-4,\n    ),\n)\n\nexpansion_splined = calculator_splined.compute(atoms)\nexpansion_gto = calculator_gto.compute(atoms)"
      ]
    },
    {
      "cell_type": "markdown",
      "metadata": {},
      "source": [
        "As you can see, the coefficients ends up different, with values assigned to different\nbasis functions. In practice, which basis function will be the best will depend on the\nuse case and exact dataset, so you should try a couple and check how they performe for\nyou!\n\n"
      ]
    },
    {
      "cell_type": "code",
      "execution_count": null,
      "metadata": {
        "collapsed": false
      },
      "outputs": [],
      "source": [
        "selection = dict(o3_lambda=0, center_type=8, neighbor_type=1)\n\nplt.matshow(expansion_splined.block(selection).values.reshape(2, 5))\nplt.matshow(expansion_gto.block(selection).values.reshape(2, 5))"
      ]
    },
    {
      "cell_type": "markdown",
      "metadata": {},
      "source": [
        "Since the calculation of the splines requires computing some integral numerically, the\ncreation of the splines might take a while. After an initial calculation, you can save\nthe splines data in JSON files; and then reload them later to re-use:\n\n"
      ]
    },
    {
      "cell_type": "code",
      "execution_count": null,
      "metadata": {
        "collapsed": false
      },
      "outputs": [],
      "source": [
        "# convert the hypers from classes to a pure JSON-compatible dictionary\njson_hypers = featomic.hypers_to_json(hypers)\n\n# save the data to a file\nwith open(\"splined-hypers.json\", \"w\") as fp:\n    json.dump(json_hypers, fp)\n\n\n# load the data from the file\nwith open(\"splined-hypers.json\", \"r\") as fp:\n    json_hypers = json.load(fp)\n\n# the hypers can be used directly with the calculators\ncalculator = featomic.SphericalExpansion(**json_hypers)"
      ]
    },
    {
      "cell_type": "markdown",
      "metadata": {},
      "source": [
        "Finally, you can use the same method to define custom\n:py:class:`featomic.basis.ExpansionBasis` and custom\n:py:class:`featomic.density.AtomicDensity`; by creating a new class inheriting from\nthe corresponding base class and implementing the corresponding methods. This allow\nyou to create a fully custom spherical expansion, and evaluate them efficiently\nthrough the splines.\n\n"
      ]
    },
    {
      "cell_type": "markdown",
      "metadata": {},
      "source": [
        ".. end-body\n\n"
      ]
    }
  ],
  "metadata": {
    "kernelspec": {
      "display_name": "Python 3",
      "language": "python",
      "name": "python3"
    },
    "language_info": {
      "codemirror_mode": {
        "name": "ipython",
        "version": 3
      },
      "file_extension": ".py",
      "mimetype": "text/x-python",
      "name": "python",
      "nbconvert_exporter": "python",
      "pygments_lexer": "ipython3",
      "version": "3.12.7"
    }
  },
  "nbformat": 4,
  "nbformat_minor": 0
}