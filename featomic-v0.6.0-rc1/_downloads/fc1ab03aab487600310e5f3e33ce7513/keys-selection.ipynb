{
  "cells": [
    {
      "cell_type": "markdown",
      "metadata": {},
      "source": [
        "\n# Keys Selection\n\n.. start-body\n"
      ]
    },
    {
      "cell_type": "code",
      "execution_count": null,
      "metadata": {
        "collapsed": false
      },
      "outputs": [],
      "source": [
        "import chemfiles\nimport numpy as np\nfrom metatensor import Labels, TensorBlock, TensorMap\n\nfrom featomic import SoapPowerSpectrum"
      ]
    },
    {
      "cell_type": "markdown",
      "metadata": {},
      "source": [
        "First we load the dataset with chemfiles\n\n"
      ]
    },
    {
      "cell_type": "code",
      "execution_count": null,
      "metadata": {
        "collapsed": false
      },
      "outputs": [],
      "source": [
        "with chemfiles.Trajectory(\"dataset.xyz\") as trajectory:\n    frames = [f for f in trajectory]"
      ]
    },
    {
      "cell_type": "markdown",
      "metadata": {},
      "source": [
        "and define the hyper parameters of the representation\n\n"
      ]
    },
    {
      "cell_type": "code",
      "execution_count": null,
      "metadata": {
        "collapsed": false
      },
      "outputs": [],
      "source": [
        "HYPER_PARAMETERS = {\n    \"cutoff\": {\n        \"radius\": 5.0,\n        \"smoothing\": {\"type\": \"ShiftedCosine\", \"width\": 0.5},\n    },\n    \"density\": {\n        \"type\": \"Gaussian\",\n        \"width\": 0.3,\n    },\n    \"basis\": {\n        \"type\": \"TensorProduct\",\n        \"max_angular\": 4,\n        \"radial\": {\"type\": \"Gto\", \"max_radial\": 6},\n    },\n}\n\ncalculator = SoapPowerSpectrum(**HYPER_PARAMETERS)"
      ]
    },
    {
      "cell_type": "markdown",
      "metadata": {},
      "source": [
        "The selections for keys should be a set of ``Labels``, with the names of the\nkeys being a subset of the names of the keys produced by the calculator.\n\n"
      ]
    },
    {
      "cell_type": "code",
      "execution_count": null,
      "metadata": {
        "collapsed": false
      },
      "outputs": [],
      "source": [
        "descriptor = calculator.compute(frames)\nprint(\"keys names:\", descriptor.keys.names)"
      ]
    },
    {
      "cell_type": "markdown",
      "metadata": {},
      "source": [
        "We can use these names to define a selection, and only blocks matching the\nlabels in this selection will be used by featomic. Here, only blocks with\nkeys ``[1,1,1]`` and ``[4,4,4]`` will be calculated.\n\n"
      ]
    },
    {
      "cell_type": "code",
      "execution_count": null,
      "metadata": {
        "collapsed": false
      },
      "outputs": [],
      "source": [
        "selection = Labels(\n    names=[\"center_type\", \"neighbor_1_type\", \"neighbor_2_type\"],\n    values=np.array([[1, 1, 1], [4, 4, 4]], dtype=np.int32),\n)\nselected_descriptor = calculator.compute(frames, selected_keys=selection)"
      ]
    },
    {
      "cell_type": "markdown",
      "metadata": {},
      "source": [
        "We get a TensorMap with 2 blocks, corresponding to the requested keys\n\n"
      ]
    },
    {
      "cell_type": "code",
      "execution_count": null,
      "metadata": {
        "collapsed": false
      },
      "outputs": [],
      "source": [
        "print(selected_descriptor.keys)"
      ]
    },
    {
      "cell_type": "markdown",
      "metadata": {},
      "source": [
        "The block for ``[1, 1, 1]`` will be exactly the same as the one in the full\n``TensorMap``\n\n"
      ]
    },
    {
      "cell_type": "code",
      "execution_count": null,
      "metadata": {
        "collapsed": false
      },
      "outputs": [],
      "source": [
        "answer = np.array_equal(descriptor.block(0).values, selected_descriptor.block(0).values)\nprint(f\"Are the blocks 0 in the descriptor and selected_descriptor equal? {answer}\")"
      ]
    },
    {
      "cell_type": "markdown",
      "metadata": {},
      "source": [
        "Since there is no block for ``[4, 4, 4]`` in the full ``TensorMap``, an empty\nblock with no samples and the default set of properties is generated\n\n"
      ]
    },
    {
      "cell_type": "code",
      "execution_count": null,
      "metadata": {
        "collapsed": false
      },
      "outputs": [],
      "source": [
        "print(selected_descriptor.block(1).values.shape)"
      ]
    },
    {
      "cell_type": "markdown",
      "metadata": {},
      "source": [
        "``selected_keys`` can be used simultaneously with samples and properties\nselection. Here we define a selection for properties as a ``TensorMap`` to\nselect different properties for each block:\n\n"
      ]
    },
    {
      "cell_type": "code",
      "execution_count": null,
      "metadata": {
        "collapsed": false
      },
      "outputs": [],
      "source": [
        "selection = [\n    Labels(names=[\"l\", \"n_1\", \"n_2\"], values=np.array([[0, 0, 0]])),\n    Labels(names=[\"l\", \"n_1\", \"n_2\"], values=np.array([[1, 1, 1]])),\n]\nblocks = []\nfor entries in selection:\n    blocks.append(\n        TensorBlock(\n            values=np.empty((len(entries), 1)),\n            samples=Labels.single(),\n            components=[],\n            properties=entries,\n        )\n    )\n\nkeys = Labels(\n    names=[\"center_type\", \"neighbor_1_type\", \"neighbor_2_type\"],\n    values=np.array([[1, 1, 1], [8, 8, 8]], dtype=np.int32),\n)\n\nselected_properties = TensorMap(keys, blocks)"
      ]
    },
    {
      "cell_type": "markdown",
      "metadata": {},
      "source": [
        "Only one of the key from our ``selected_properties`` will be used in the\n``selected_keys``, meaning the output will only contain this one key/block.\n\n"
      ]
    },
    {
      "cell_type": "code",
      "execution_count": null,
      "metadata": {
        "collapsed": false
      },
      "outputs": [],
      "source": [
        "selected_keys = Labels(\n    names=[\"center_type\", \"neighbor_1_type\", \"neighbor_2_type\"],\n    values=np.array([[1, 1, 1]], dtype=np.int32),\n)\n\ndescriptor = calculator.compute(\n    frames,\n    selected_properties=selected_properties,\n    selected_keys=selected_keys,\n)"
      ]
    },
    {
      "cell_type": "markdown",
      "metadata": {},
      "source": [
        "As expected, we get 1 block with values of the form (420, 1), i.e. with only 1\nproperty.\n\n"
      ]
    },
    {
      "cell_type": "code",
      "execution_count": null,
      "metadata": {
        "collapsed": false
      },
      "outputs": [],
      "source": [
        "print(f\"list of keys: {descriptor.keys}\")\nprint(descriptor.block(0).values.shape)"
      ]
    },
    {
      "cell_type": "markdown",
      "metadata": {},
      "source": [
        ".. end-body\n\n"
      ]
    }
  ],
  "metadata": {
    "kernelspec": {
      "display_name": "Python 3",
      "language": "python",
      "name": "python3"
    },
    "language_info": {
      "codemirror_mode": {
        "name": "ipython",
        "version": 3
      },
      "file_extension": ".py",
      "mimetype": "text/x-python",
      "name": "python",
      "nbconvert_exporter": "python",
      "pygments_lexer": "ipython3",
      "version": "3.12.7"
    }
  },
  "nbformat": 4,
  "nbformat_minor": 0
}