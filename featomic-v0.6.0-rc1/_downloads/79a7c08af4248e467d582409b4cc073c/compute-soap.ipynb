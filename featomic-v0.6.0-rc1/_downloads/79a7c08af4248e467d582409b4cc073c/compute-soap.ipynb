{
  "cells": [
    {
      "cell_type": "markdown",
      "metadata": {},
      "source": [
        "\n# Computing SOAP features\n\n.. start-body\n"
      ]
    },
    {
      "cell_type": "code",
      "execution_count": null,
      "metadata": {
        "collapsed": false
      },
      "outputs": [],
      "source": [
        "import chemfiles\n\nfrom featomic import SoapPowerSpectrum"
      ]
    },
    {
      "cell_type": "markdown",
      "metadata": {},
      "source": [
        "Read systems using chemfiles. You can obtain the dataset used in this\nexample from our :download:`website <../../static/dataset.xyz>`.\n\n"
      ]
    },
    {
      "cell_type": "code",
      "execution_count": null,
      "metadata": {
        "collapsed": false
      },
      "outputs": [],
      "source": [
        "with chemfiles.Trajectory(\"dataset.xyz\") as trajectory:\n    systems = [s for s in trajectory]"
      ]
    },
    {
      "cell_type": "markdown",
      "metadata": {},
      "source": [
        "Featomic can also handles systems read by [ASE](https://wiki.fysik.dtu.dk/ase/) using\n\n``systems = ase.io.read(\"dataset.xyz\", \":\")``.\n\nWe can now define hyper parameters for the calculation\n\n"
      ]
    },
    {
      "cell_type": "code",
      "execution_count": null,
      "metadata": {
        "collapsed": false
      },
      "outputs": [],
      "source": [
        "HYPER_PARAMETERS = {\n    \"cutoff\": {\n        \"radius\": 5.0,\n        \"smoothing\": {\"type\": \"ShiftedCosine\", \"width\": 0.5},\n    },\n    \"density\": {\n        \"type\": \"Gaussian\",\n        \"width\": 0.3,\n    },\n    \"basis\": {\n        \"type\": \"TensorProduct\",\n        \"max_angular\": 4,\n        \"radial\": {\"type\": \"Gto\", \"max_radial\": 6},\n    },\n}\n\ncalculator = SoapPowerSpectrum(**HYPER_PARAMETERS)"
      ]
    },
    {
      "cell_type": "markdown",
      "metadata": {},
      "source": [
        "And then run the actual calculation, including gradients with respect to positions\n\n"
      ]
    },
    {
      "cell_type": "code",
      "execution_count": null,
      "metadata": {
        "collapsed": false
      },
      "outputs": [],
      "source": [
        "descriptor = calculator.compute(systems, gradients=[\"positions\"])"
      ]
    },
    {
      "cell_type": "markdown",
      "metadata": {},
      "source": [
        "The descriptor is a metatensor ``TensorMap``, containing multiple blocks. We\ncan transform it to a single block containing a dense representation, with one\nsample for each atom-centered environment by using ``keys_to_samples`` and\n``keys_to_properties``\n\n"
      ]
    },
    {
      "cell_type": "code",
      "execution_count": null,
      "metadata": {
        "collapsed": false
      },
      "outputs": [],
      "source": [
        "print(\"before: \", len(descriptor.keys))\n\ndescriptor = descriptor.keys_to_samples(\"center_type\")\ndescriptor = descriptor.keys_to_properties([\"neighbor_1_type\", \"neighbor_2_type\"])\nprint(\"after: \", len(descriptor.keys))"
      ]
    },
    {
      "cell_type": "markdown",
      "metadata": {},
      "source": [
        "you can now use ``descriptor.block().values`` as the input of a machine\nlearning algorithm\n\n"
      ]
    },
    {
      "cell_type": "code",
      "execution_count": null,
      "metadata": {
        "collapsed": false
      },
      "outputs": [],
      "source": [
        "print(descriptor.block().values.shape)"
      ]
    },
    {
      "cell_type": "markdown",
      "metadata": {},
      "source": [
        ".. end-body\n\n"
      ]
    }
  ],
  "metadata": {
    "kernelspec": {
      "display_name": "Python 3",
      "language": "python",
      "name": "python3"
    },
    "language_info": {
      "codemirror_mode": {
        "name": "ipython",
        "version": 3
      },
      "file_extension": ".py",
      "mimetype": "text/x-python",
      "name": "python",
      "nbconvert_exporter": "python",
      "pygments_lexer": "ipython3",
      "version": "3.12.7"
    }
  },
  "nbformat": 4,
  "nbformat_minor": 0
}